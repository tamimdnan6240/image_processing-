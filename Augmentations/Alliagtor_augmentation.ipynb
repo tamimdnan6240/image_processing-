{
 "cells": [
  {
   "cell_type": "code",
   "execution_count": 146,
   "id": "86769be6",
   "metadata": {},
   "outputs": [],
   "source": [
    "import torch\n",
    "import torchvision.transforms as transforms\n",
    "from torchvision.utils import save_image\n",
    "import cv2 \n",
    "from matplotlib import pyplot as plt\n",
    "import numpy as np\n",
    "from torchvision import transforms, models\n",
    "import matplotlib.image as mpimg \n",
    "from PIL import Image\n",
    "import numpy as np\n",
    "from numpy import asarray\n",
    "import glob\n",
    "import os"
   ]
  },
  {
   "cell_type": "code",
   "execution_count": 147,
   "id": "8509001f",
   "metadata": {},
   "outputs": [],
   "source": [
    "# we define a python file for our convenicences to make some operations\n",
    "from image_msk_Load_rotate_display__resize_CenterCrop_RadndoFlipping import Load_Image "
   ]
  },
  {
   "cell_type": "code",
   "execution_count": 175,
   "id": "83373102",
   "metadata": {},
   "outputs": [
    {
     "data": {
      "text/plain": [
       "[\"D:\\\\SPRING 2023\\\\MS_Thesis\\\\MASTER'S THESIS\\\\EdmCrack600\\\\Data_Structure(Annotated)\\\\Alligator Cracks\\\\Originals\\\\1.png\",\n",
       " \"D:\\\\SPRING 2023\\\\MS_Thesis\\\\MASTER'S THESIS\\\\EdmCrack600\\\\Data_Structure(Annotated)\\\\Alligator Cracks\\\\Originals\\\\14.png\",\n",
       " \"D:\\\\SPRING 2023\\\\MS_Thesis\\\\MASTER'S THESIS\\\\EdmCrack600\\\\Data_Structure(Annotated)\\\\Alligator Cracks\\\\Originals\\\\2.png\",\n",
       " \"D:\\\\SPRING 2023\\\\MS_Thesis\\\\MASTER'S THESIS\\\\EdmCrack600\\\\Data_Structure(Annotated)\\\\Alligator Cracks\\\\Originals\\\\3.png\",\n",
       " \"D:\\\\SPRING 2023\\\\MS_Thesis\\\\MASTER'S THESIS\\\\EdmCrack600\\\\Data_Structure(Annotated)\\\\Alligator Cracks\\\\Originals\\\\37.png\",\n",
       " \"D:\\\\SPRING 2023\\\\MS_Thesis\\\\MASTER'S THESIS\\\\EdmCrack600\\\\Data_Structure(Annotated)\\\\Alligator Cracks\\\\Originals\\\\38.png\",\n",
       " \"D:\\\\SPRING 2023\\\\MS_Thesis\\\\MASTER'S THESIS\\\\EdmCrack600\\\\Data_Structure(Annotated)\\\\Alligator Cracks\\\\Originals\\\\4.png\",\n",
       " \"D:\\\\SPRING 2023\\\\MS_Thesis\\\\MASTER'S THESIS\\\\EdmCrack600\\\\Data_Structure(Annotated)\\\\Alligator Cracks\\\\Originals\\\\482.png\",\n",
       " \"D:\\\\SPRING 2023\\\\MS_Thesis\\\\MASTER'S THESIS\\\\EdmCrack600\\\\Data_Structure(Annotated)\\\\Alligator Cracks\\\\Originals\\\\6.png\",\n",
       " \"D:\\\\SPRING 2023\\\\MS_Thesis\\\\MASTER'S THESIS\\\\EdmCrack600\\\\Data_Structure(Annotated)\\\\Alligator Cracks\\\\Originals\\\\7.png\"]"
      ]
     },
     "execution_count": 175,
     "metadata": {},
     "output_type": "execute_result"
    }
   ],
   "source": [
    "image_folder = glob.glob(\"D:\\\\SPRING 2023\\\\MS_Thesis\\\\MASTER'S THESIS\\\\EdmCrack600\\\\Data_Structure(Annotated)\\\\Alligator Cracks\\\\Originals\\*png\")\n",
    "image_folder "
   ]
  },
  {
   "cell_type": "code",
   "execution_count": 210,
   "id": "2d073f04",
   "metadata": {},
   "outputs": [],
   "source": [
    "image_1 =Load_Image(\"D:\\\\SPRING 2023\\\\MS_Thesis\\\\MASTER'S THESIS\\\\EdmCrack600\\\\Data_Structure(Annotated)\\\\Alligator Cracks\\\\Originals\\\\4.png\")"
   ]
  },
  {
   "cell_type": "code",
   "execution_count": 211,
   "id": "d2896a55",
   "metadata": {},
   "outputs": [],
   "source": [
    "def display_images(image): \n",
    "    plt.figure()\n",
    "    plt.subplot(1, 2, 1)\n",
    "    plt.imshow(image)\n",
    "    plt.title(\"Image\")\n",
    "    plt.show()"
   ]
  },
  {
   "cell_type": "code",
   "execution_count": 212,
   "id": "8551bdbd",
   "metadata": {},
   "outputs": [
    {
     "data": {
      "image/png": "[encoded data removed]",
      "text/plain": [
       "<Figure size 640x480 with 1 Axes>"
      ]
     },
     "metadata": {},
     "output_type": "display_data"
    }
   ],
   "source": [
    "## convert image to numpy array for visualization \n",
    "image_1 = np.array(image_1)\n",
    "display_images(image_1)"
   ]
  },
  {
   "cell_type": "code",
   "execution_count": null,
   "id": "bb7b32c1",
   "metadata": {},
   "outputs": [],
   "source": [
    "import torchvision\n",
    "image_1 = Image.fromarray(image_1)\n",
    "image_1 = torchvision.transforms.RandomVerticalFlip(p=0.75)(image_1)\n",
    "display_images(image_1)\n",
    "image_1.save('fliiped_77.png')"
   ]
  },
  {
   "cell_type": "code",
   "execution_count": null,
   "id": "8e84222b",
   "metadata": {},
   "outputs": [],
   "source": []
  },
  {
   "cell_type": "code",
   "execution_count": null,
   "id": "df74c50d",
   "metadata": {},
   "outputs": [],
   "source": []
  },
  {
   "cell_type": "code",
   "execution_count": null,
   "id": "b31fa766",
   "metadata": {},
   "outputs": [],
   "source": []
  },
  {
   "cell_type": "code",
   "execution_count": null,
   "id": "97c3fe0f",
   "metadata": {},
   "outputs": [],
   "source": []
  },
  {
   "cell_type": "code",
   "execution_count": 159,
   "id": "aa145968",
   "metadata": {},
   "outputs": [
    {
     "data": {
      "image/png": "[encoded data removed]",
      "text/plain": [
       "<Figure size 640x480 with 1 Axes>"
      ]
     },
     "metadata": {},
     "output_type": "display_data"
    }
   ],
   "source": [
    "import torchvision\n",
    "image_1 = Image.fromarray(image_1)\n",
    "image_1 = torchvision.transforms.RandomHorizontalFlip(p=0.75)(image_1)\n",
    "display_images(image_1)\n",
    "image_1.save('fliiped_9.png')"
   ]
  },
  {
   "cell_type": "code",
   "execution_count": null,
   "id": "beeaabb8",
   "metadata": {},
   "outputs": [],
   "source": [
    ".RandomVerticalFlip"
   ]
  },
  {
   "cell_type": "code",
   "execution_count": null,
   "id": "2ab0f2c5",
   "metadata": {},
   "outputs": [],
   "source": []
  },
  {
   "cell_type": "code",
   "execution_count": null,
   "id": "d068d29a",
   "metadata": {},
   "outputs": [],
   "source": []
  }
 ],
 "metadata": {
  "kernelspec": {
   "display_name": "Python 3 (ipykernel)",
   "language": "python",
   "name": "python3"
  },
  "language_info": {
   "codemirror_mode": {
    "name": "ipython",
    "version": 3
   },
   "file_extension": ".py",
   "mimetype": "text/x-python",
   "name": "python",
   "nbconvert_exporter": "python",
   "pygments_lexer": "ipython3",
   "version": "3.10.9"
  }
 },
 "nbformat": 4,
 "nbformat_minor": 5
}
