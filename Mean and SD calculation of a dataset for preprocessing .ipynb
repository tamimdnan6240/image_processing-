{
 "cells": [
  {
   "cell_type": "code",
   "execution_count": 1,
   "id": "8932564c",
   "metadata": {},
   "outputs": [
    {
     "name": "stdout",
     "output_type": "stream",
     "text": [
      "[4116948614 4116948614 4116948614]\n",
      "82690048\n",
      "get the variance and make it absoulte before the std calculation [-230.322713 -230.322713 -230.322713]\n",
      "Mean: [16.7364999 16.7364999 16.7364999]\n",
      "Standard Deviation: [15.17638669 15.17638669 15.17638669]\n"
     ]
    }
   ],
   "source": [
    "import os\n",
    "from PIL import Image\n",
    "import numpy as np\n",
    "\n",
    "# Function to calculate mean and standard deviation from a dataset\n",
    "def calculate_mean_std(dataset_dir, image_folder, mask_folder):\n",
    "    pixel_sum = 0\n",
    "    pixel_squared_sum = 0\n",
    "    total_pixels = 0\n",
    "\n",
    "    # Iterate over the image folder within the dataset directory\n",
    "    for filename in os.listdir(os.path.join(dataset_dir, image_folder)):\n",
    "        image_path = os.path.join(dataset_dir, image_folder, filename)\n",
    "        image = Image.open(image_path).convert('RGB')\n",
    "        mask_name = filename.split('.')[0] + '.jpg'\n",
    "        mask_path = os.path.join(dataset_dir, mask_folder, mask_name)\n",
    "        mask = Image.open(mask_path).convert('L')\n",
    "        pixels = np.array(image)\n",
    "        mask_pixels = np.array(mask)\n",
    "\n",
    "        # Consider both image and mask pixels in the calculations\n",
    "        pixel_sum += np.sum(pixels, axis=(0, 1)) + np.sum(mask_pixels, axis=(0, 1))\n",
    "        pixel_squared_sum += np.sum(np.square(pixels), axis=(0, 1)) + np.sum(np.square(mask_pixels), axis=(0, 1))\n",
    "        total_pixels += (pixels.shape[0] * pixels.shape[1]) + (mask_pixels.shape[0] * mask_pixels.shape[1])\n",
    "\n",
    "\n",
    "    epsilon = 1e-8  # Small value to avoid division by zero\n",
    "    mean = pixel_sum / total_pixels\n",
    "    print (pixel_squared_sum)\n",
    "    print (total_pixels) \n",
    "    x = (pixel_squared_sum / total_pixels) - np.square(mean) + epsilon\n",
    "    print(\"get the variance and make it absoulte before the std calculation\",x)\n",
    "    std = np.sqrt(np.abs(x))\n",
    "\n",
    "    # Replace negative or NaN values with 0\n",
    "    std[np.isnan(std)] = 0\n",
    "    std[std < 0] = 0\n",
    "\n",
    "    return mean, std\n",
    "\n",
    "# Define the directory paths\n",
    "dataset_dir = r\"D:\\SPRING 2023\\MS_Thesis\\MASTER'S THESIS\\Final Thesis Report\\FINAL_outputs_Final_Report\\CRACKTREE_FINAL_OUTPUT\\parallel\\206_CRACKTREE\\CRACKTREE206\\train\"\n",
    "image_folder = \"images\"\n",
    "mask_folder = \"masks\"\n",
    "\n",
    "# Calculate mean and standard deviation for the dataset\n",
    "mean, std = calculate_mean_std(dataset_dir, image_folder, mask_folder)\n",
    "print(\"Mean:\", mean)\n",
    "print(\"Standard Deviation:\", std)\n",
    "\n",
    "# Rest of the code...\n"
   ]
  },
  {
   "cell_type": "code",
   "execution_count": null,
   "id": "54165dbf",
   "metadata": {},
   "outputs": [],
   "source": []
  }
 ],
 "metadata": {
  "kernelspec": {
   "display_name": "Python 3 (ipykernel)",
   "language": "python",
   "name": "python3"
  },
  "language_info": {
   "codemirror_mode": {
    "name": "ipython",
    "version": 3
   },
   "file_extension": ".py",
   "mimetype": "text/x-python",
   "name": "python",
   "nbconvert_exporter": "python",
   "pygments_lexer": "ipython3",
   "version": "3.10.9"
  }
 },
 "nbformat": 4,
 "nbformat_minor": 5
}
