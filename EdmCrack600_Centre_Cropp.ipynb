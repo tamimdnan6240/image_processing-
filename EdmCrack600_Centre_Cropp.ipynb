{
 "cells": [
  {
   "cell_type": "code",
   "execution_count": null,
   "id": "399b34d6",
   "metadata": {},
   "outputs": [],
   "source": [
    "import torch\n",
    "import torchvision.transforms as transforms\n",
    "from torchvision.utils import save_image\n",
    "import cv2 \n",
    "from matplotlib import pyplot as plt\n",
    "import numpy as np\n",
    "from torchvision import transforms, models\n",
    "import matplotlib.image as mpimg \n",
    "from PIL import Image\n",
    "import numpy as np\n",
    "from numpy import asarray\n",
    "import glob\n",
    "import os"
   ]
  },
  {
   "cell_type": "code",
   "execution_count": null,
   "id": "562151c4",
   "metadata": {},
   "outputs": [],
   "source": [
    "# we define a python file for our convenicences to make some operations\n",
    "from image_msk_Load_rotate_display__resize_CenterCrop_RadndoFlipping import Load_Image, centerCrop, display_images"
   ]
  },
  {
   "cell_type": "code",
   "execution_count": null,
   "id": "caccaf7f",
   "metadata": {},
   "outputs": [],
   "source": [
    "cropped_images =  (\"D:\\\\SPRING 2023\\\\MS_Thesis\\\\MASTER'S THESIS\\\\EdmCrack600\\\\dataset-EdmCrack600\\\\cropped_images\")\n",
    "cropped_masks =   (\"D:\\\\SPRING 2023\\\\MS_Thesis\\\\MASTER'S THESIS\\\\EdmCrack600\\\\dataset-EdmCrack600\\\\cropped_masks\")\n",
    "\n",
    "##create save image directory\n",
    "if not os.path.exists(cropped_images):\n",
    "    os.mkdir(cropped_images)\n",
    "\n",
    "## create mask directory\n",
    "if not os.path.exists(cropped_masks):\n",
    "    os.mkdir(cropped_masks)\n",
    "    \n",
    "## program for saving the images, \n",
    "def save_img(img, msk): \n",
    "    img = Image.fromarray(img)\n",
    "    msk = Image.fromarray(msk)\n",
    "    os.path.join(cropped_images, img)\n",
    "    os.path.join(cropped_masks, msk)"
   ]
  },
  {
   "cell_type": "code",
   "execution_count": null,
   "id": "97a1269c",
   "metadata": {},
   "outputs": [],
   "source": [
    "## load_images \n",
    "images = glob.glob(\"D:\\\\SPRING 2023\\\\MS_Thesis\\\\MASTER'S THESIS\\\\EdmCrack600\\\\dataset-EdmCrack600\\\\images/*png\")\n",
    "images "
   ]
  },
  {
   "cell_type": "code",
   "execution_count": null,
   "id": "c92e633d",
   "metadata": {},
   "outputs": [],
   "source": [
    "masks = glob.glob(\"D:\\\\SPRING 2023\\\\MS_Thesis\\\\MASTER'S THESIS\\\\EdmCrack600\\\\dataset-EdmCrack600\\\\annotations/*png\")\n",
    "masks"
   ]
  },
  {
   "cell_type": "code",
   "execution_count": null,
   "id": "ee587b15",
   "metadata": {
    "scrolled": false
   },
   "outputs": [],
   "source": [
    "import os\n",
    "from PIL import Image\n",
    "\n",
    "# Define the paths for the directories\n",
    "base_dir = \"D:\\\\SPRING 2023\\\\MS_Thesis\\\\MASTER'S THESIS\\\\EdmCrack600\\\\dataset-EdmCrack600\\\\\"\n",
    "image_dir = os.path.join(base_dir, \"images\")\n",
    "mask_dir = os.path.join(base_dir, \"annotations\")\n",
    "cropped_images_dir = os.path.join(base_dir, \"cropped_images\")\n",
    "cropped_masks_dir = os.path.join(base_dir, \"cropped_masks\")\n",
    "\n",
    "# Create directories if they don't exist\n",
    "os.makedirs(cropped_images_dir, exist_ok=True)\n",
    "os.makedirs(cropped_masks_dir, exist_ok=True)\n",
    "\n",
    "# Get a list of image and mask files\n",
    "image_files = [file for file in os.listdir(image_dir) if file.endswith('.jpg') or file.endswith('.png')]\n",
    "mask_files = [file for file in os.listdir(mask_dir) if file.endswith('.jpg') or file.endswith('.png')]\n",
    "\n",
    "for image_file, mask_file in zip(image_files, mask_files):\n",
    "    image_path = os.path.join(image_dir, image_file)\n",
    "    mask_path = os.path.join(mask_dir, mask_file)\n",
    "    \n",
    "    # Open the image and mask\n",
    "    image = Image.open(image_path)\n",
    "    image = np.array(image)\n",
    "    mask = Image.open(mask_path)\n",
    "    mask = np.array(mask)\n",
    "\n",
    "    # Perform the center crop\n",
    "    cropped_image, cropped_mask = centerCrop(image, mask, (512, 512))\n",
    "    cropped_image = Image.fromarray(cropped_image)\n",
    "    cropped_mask = Image.fromarray(cropped_mask)\n",
    "    \n",
    "    # Save the cropped images and masks\n",
    "    cropped_image_path = os.path.join(cropped_images_dir, image_file)\n",
    "    cropped_mask_path = os.path.join(cropped_masks_dir, mask_file)\n",
    "    cropped_image.save(cropped_image_path)\n",
    "    cropped_mask.save(cropped_mask_path)\n",
    "    \n",
    "    # Display the images if needed\n",
    "    print(display_images(cropped_image, cropped_mask))\n"
   ]
  },
  {
   "cell_type": "code",
   "execution_count": null,
   "id": "1bbff949",
   "metadata": {},
   "outputs": [],
   "source": []
  },
  {
   "cell_type": "code",
   "execution_count": null,
   "id": "f909eb94",
   "metadata": {},
   "outputs": [],
   "source": []
  }
 ],
 "metadata": {
  "kernelspec": {
   "display_name": "Python 3 (ipykernel)",
   "language": "python",
   "name": "python3"
  },
  "language_info": {
   "codemirror_mode": {
    "name": "ipython",
    "version": 3
   },
   "file_extension": ".py",
   "mimetype": "text/x-python",
   "name": "python",
   "nbconvert_exporter": "python",
   "pygments_lexer": "ipython3",
   "version": "3.10.9"
  }
 },
 "nbformat": 4,
 "nbformat_minor": 5
}
