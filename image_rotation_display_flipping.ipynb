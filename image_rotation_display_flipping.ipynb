{
 "cells": [
  {
   "cell_type": "code",
   "execution_count": 17,
   "id": "c6357dd2",
   "metadata": {},
   "outputs": [],
   "source": [
    "import torch\n",
    "import torchvision.transforms as transforms\n",
    "from torchvision.utils import save_image\n",
    "import cv2 \n",
    "from matplotlib import pyplot as plt\n",
    "import numpy as np\n",
    "from torchvision import transforms, models"
   ]
  },
  {
   "cell_type": "code",
   "execution_count": 18,
   "id": "9c04eda2",
   "metadata": {},
   "outputs": [],
   "source": [
    "## Load the images\n",
    "# This function will read the image using its path with opencv\n",
    "def Load_Image(Path):\n",
    "    img = cv2.imread(Path)[:,:,::-1] # opencv read the images in BGR format \n",
    "                                    # so we use [:,:,::-1] to convert from BGR to RGB\n",
    "    return img"
   ]
  },
  {
   "cell_type": "code",
   "execution_count": 19,
   "id": "939e9f9b",
   "metadata": {},
   "outputs": [],
   "source": [
    "## display the image and corresponding masks/annotations/labelings\n",
    "\n",
    "def display_images(image, mask): \n",
    "    plt.figure()\n",
    "    plt.subplot(1, 2, 1)\n",
    "    plt.imshow(image)\n",
    "    plt.title(\"Image\")\n",
    "    plt.subplot(1, 2, 2)\n",
    "    plt.imshow(mask)\n",
    "    plt.title(\"Mask\")\n",
    "    plt.show()"
   ]
  },
  {
   "cell_type": "code",
   "execution_count": 20,
   "id": "edc4344a",
   "metadata": {},
   "outputs": [],
   "source": [
    "## Rotate the image and corresponding masks/annotations/labelings\n",
    "\n",
    "def rotate(image, mask, angle):\n",
    "    (h, w) = image.shape[:2]\n",
    "    center = (w // 2, h // 2)\n",
    "    M = cv2.getRotationMatrix2D(center, angle * (-1) , 1.0) ## 1 is the scaling factor to remain the size same \n",
    "    image = cv2.warpAffine(image, M, (w, h))\n",
    "    mask = cv2.warpAffine(mask, M, (w, h))\n",
    "    return image, mask"
   ]
  },
  {
   "cell_type": "code",
   "execution_count": 21,
   "id": "4cb49df3",
   "metadata": {},
   "outputs": [],
   "source": [
    "## Flip the image and corresponding mask to left_right and up_down. This function is taken from https://github.com/qinnzou/DeepCrack/blob/master/codes/data/augmentation.py\n",
    "\n",
    "def t_random(min=0, max=1):\n",
    "    return min + (max - min) * np.random.rand()\n",
    "\n",
    "def t_randint(min, max):\n",
    "    return np.random.randint(low=min, high=max)\n",
    "\n",
    "def RandomFlip(img, mask, FLIP_LEFT_RIGHT=True, FLIP_TOP_BOTTOM=True):\n",
    "\n",
    "    if FLIP_LEFT_RIGHT and t_random() < 0.5:\n",
    "        img = cv2.flip(img, 1)\n",
    "        mask = cv2.flip(mask, 1)\n",
    "\n",
    "    if FLIP_TOP_BOTTOM and t_random() < 0.5:\n",
    "        img = cv2.flip(img, 0)\n",
    "        mask = cv2.flip(mask, 0)\n",
    "    return img, mask"
   ]
  },
  {
   "cell_type": "code",
   "execution_count": null,
   "id": "13109ba9",
   "metadata": {},
   "outputs": [],
   "source": []
  }
 ],
 "metadata": {
  "kernelspec": {
   "display_name": "Python 3 (ipykernel)",
   "language": "python",
   "name": "python3"
  },
  "language_info": {
   "codemirror_mode": {
    "name": "ipython",
    "version": 3
   },
   "file_extension": ".py",
   "mimetype": "text/x-python",
   "name": "python",
   "nbconvert_exporter": "python",
   "pygments_lexer": "ipython3",
   "version": "3.10.8"
  }
 },
 "nbformat": 4,
 "nbformat_minor": 5
}
